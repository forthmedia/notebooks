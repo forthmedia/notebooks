{
  "nbformat": 4,
  "nbformat_minor": 0,
  "metadata": {
    "colab": {
      "name": "Tf-Mnist-Cnn.ipynb",
      "provenance": [],
      "authorship_tag": "ABX9TyOWhIaDP9xAtogCNLG2JoEp",
      "include_colab_link": true
    },
    "kernelspec": {
      "name": "python3",
      "display_name": "Python 3"
    },
    "language_info": {
      "name": "python"
    }
  },
  "cells": [
    {
      "cell_type": "markdown",
      "metadata": {
        "id": "view-in-github",
        "colab_type": "text"
      },
      "source": [
        "<a href=\"https://colab.research.google.com/github/forthmedia/notebooks/blob/main/Tf_Mnist_Cnn.ipynb\" target=\"_parent\"><img src=\"https://colab.research.google.com/assets/colab-badge.svg\" alt=\"Open In Colab\"/></a>"
      ]
    },
    {
      "cell_type": "code",
      "metadata": {
        "colab": {
          "base_uri": "https://localhost:8080/"
        },
        "id": "qh6vhLj6bYqz",
        "outputId": "4c0a267e-ee97-4da3-8491-abf4951259d5"
      },
      "source": [
        "import tensorflow as tf\n",
        "print(tf.__version__)"
      ],
      "execution_count": 1,
      "outputs": [
        {
          "output_type": "stream",
          "name": "stdout",
          "text": [
            "2.6.0\n",
            "Num GPUs Available:  0\n"
          ]
        }
      ]
    },
    {
      "cell_type": "code",
      "metadata": {
        "colab": {
          "base_uri": "https://localhost:8080/"
        },
        "id": "U1wYewhmb2ly",
        "outputId": "fdc189a8-5b2d-4f78-ba93-dad2f577937c"
      },
      "source": [
        "(x_train,y_train),(x_test,y_test) = tf.keras.datasets.mnist.load_data()"
      ],
      "execution_count": 2,
      "outputs": [
        {
          "output_type": "stream",
          "name": "stdout",
          "text": [
            "Downloading data from https://storage.googleapis.com/tensorflow/tf-keras-datasets/mnist.npz\n",
            "11493376/11490434 [==============================] - 0s 0us/step\n",
            "11501568/11490434 [==============================] - 0s 0us/step\n"
          ]
        }
      ]
    },
    {
      "cell_type": "markdown",
      "metadata": {
        "id": "5XPvYcxFb8ix"
      },
      "source": [
        "#### Reshape data for CNN and Normalize"
      ]
    },
    {
      "cell_type": "code",
      "metadata": {
        "id": "8fd0L3kDcBd2"
      },
      "source": [
        "x_train = x_train.reshape(60000,28,28,1)\n",
        "x_train = x_train / 255.0\n",
        "x_test = x_test.reshape(10000,28,28,1)\n",
        "x_test = x_test / 255.0"
      ],
      "execution_count": 3,
      "outputs": []
    },
    {
      "cell_type": "markdown",
      "metadata": {
        "id": "maX7irydcGeS"
      },
      "source": [
        "#### Build CNN model with Covolution and Pooling layers. Plus Dropout."
      ]
    },
    {
      "cell_type": "code",
      "metadata": {
        "id": "6Qqi86BJcIve"
      },
      "source": [
        "model = tf.keras.models.Sequential([\n",
        "    tf.keras.layers.Conv2D(64, (3,3), activation='relu', input_shape=(28,28,1)),\n",
        "    tf.keras.layers.MaxPooling2D(2,2),\n",
        "    tf.keras.layers.Conv2D(64, (3,3), activation='relu'),\n",
        "    tf.keras.layers.MaxPooling2D(2,2),\n",
        "    tf.keras.layers.Flatten(),\n",
        "    tf.keras.layers.Dense(128, activation='relu'),\n",
        "    tf.keras.layers.Dropout(0.2),\n",
        "    tf.keras.layers.Dense(10, activation='softmax')\n",
        "])"
      ],
      "execution_count": 4,
      "outputs": []
    },
    {
      "cell_type": "code",
      "metadata": {
        "id": "-v7L1_K9cQ6p"
      },
      "source": [
        "class EarlyStoppingCallback(tf.keras.callbacks.Callback) :\n",
        "    def on_epoch_end(self, epoch, logs={}) :\n",
        "        if(logs.get('accuracy') > 0.9975) :\n",
        "            print(\"\\nStopped training at 99.75% accuracy\")\n",
        "            self.model.stop_training = True\n",
        "            \n",
        "callbacks = EarlyStoppingCallback()"
      ],
      "execution_count": 5,
      "outputs": []
    },
    {
      "cell_type": "code",
      "metadata": {
        "id": "B-qdCI7gcVOE"
      },
      "source": [
        "model.compile(optimizer='adam',\n",
        "             loss='sparse_categorical_crossentropy',\n",
        "             metrics=['accuracy'])"
      ],
      "execution_count": 6,
      "outputs": []
    },
    {
      "cell_type": "code",
      "metadata": {
        "colab": {
          "base_uri": "https://localhost:8080/"
        },
        "id": "OGCf-RiOcZc7",
        "outputId": "2bcb4abf-9b1e-4f4c-d91f-96aab5430eea"
      },
      "source": [
        "model.fit(x_train, y_train, epochs=50, callbacks=[callbacks])"
      ],
      "execution_count": 7,
      "outputs": [
        {
          "output_type": "stream",
          "name": "stdout",
          "text": [
            "Epoch 1/50\n",
            "1875/1875 [==============================] - 79s 42ms/step - loss: 0.1427 - accuracy: 0.9563\n",
            "Epoch 2/50\n",
            "1875/1875 [==============================] - 78s 42ms/step - loss: 0.0489 - accuracy: 0.9852\n",
            "Epoch 3/50\n",
            "1875/1875 [==============================] - 78s 41ms/step - loss: 0.0354 - accuracy: 0.9885\n",
            "Epoch 4/50\n",
            "1875/1875 [==============================] - 77s 41ms/step - loss: 0.0267 - accuracy: 0.9922\n",
            "Epoch 5/50\n",
            "1875/1875 [==============================] - 77s 41ms/step - loss: 0.0213 - accuracy: 0.9930\n",
            "Epoch 6/50\n",
            "1875/1875 [==============================] - 77s 41ms/step - loss: 0.0168 - accuracy: 0.9948\n",
            "Epoch 7/50\n",
            "1875/1875 [==============================] - 77s 41ms/step - loss: 0.0161 - accuracy: 0.9946\n",
            "Epoch 8/50\n",
            "1875/1875 [==============================] - 77s 41ms/step - loss: 0.0127 - accuracy: 0.9957\n",
            "Epoch 9/50\n",
            "1875/1875 [==============================] - 82s 44ms/step - loss: 0.0115 - accuracy: 0.9961\n",
            "Epoch 10/50\n",
            "1875/1875 [==============================] - 80s 42ms/step - loss: 0.0094 - accuracy: 0.9969\n",
            "Epoch 11/50\n",
            "1875/1875 [==============================] - 79s 42ms/step - loss: 0.0094 - accuracy: 0.9967\n",
            "Epoch 12/50\n",
            "1875/1875 [==============================] - 79s 42ms/step - loss: 0.0079 - accuracy: 0.9976\n",
            "\n",
            "Stopped training at 99.75% accuracy\n"
          ]
        },
        {
          "output_type": "execute_result",
          "data": {
            "text/plain": [
              "<keras.callbacks.History at 0x7fc3f55d5750>"
            ]
          },
          "metadata": {},
          "execution_count": 7
        }
      ]
    },
    {
      "cell_type": "markdown",
      "metadata": {
        "id": "LXQCdUxtgMUd"
      },
      "source": [
        "#### Evaluate"
      ]
    },
    {
      "cell_type": "code",
      "metadata": {
        "colab": {
          "base_uri": "https://localhost:8080/"
        },
        "id": "Qh5Fbsk-gPg7",
        "outputId": "db6d1f28-c60a-49c7-b098-8b07a3a2371c"
      },
      "source": [
        "model.evaluate(x_test, y_test)"
      ],
      "execution_count": 8,
      "outputs": [
        {
          "output_type": "stream",
          "name": "stdout",
          "text": [
            "313/313 [==============================] - 4s 13ms/step - loss: 0.0447 - accuracy: 0.9904\n"
          ]
        },
        {
          "output_type": "execute_result",
          "data": {
            "text/plain": [
              "[0.04474854841828346, 0.9904000163078308]"
            ]
          },
          "metadata": {},
          "execution_count": 8
        }
      ]
    },
    {
      "cell_type": "code",
      "metadata": {
        "colab": {
          "base_uri": "https://localhost:8080/"
        },
        "id": "Uo37kHOfgW6w",
        "outputId": "e4fded8b-964b-4dbc-bb04-12c2f685655a"
      },
      "source": [
        "classifications = model.predict(x_test)\n",
        "print(classifications[0])\n",
        "print(y_test[0])"
      ],
      "execution_count": 9,
      "outputs": [
        {
          "output_type": "stream",
          "name": "stdout",
          "text": [
            "[4.5919542e-18 1.0546770e-14 3.6416925e-14 2.2161577e-14 2.0529756e-14\n",
            " 5.2756153e-19 1.8528140e-25 1.0000000e+00 2.7746415e-18 2.4935283e-14]\n",
            "7\n"
          ]
        }
      ]
    }
  ]
}